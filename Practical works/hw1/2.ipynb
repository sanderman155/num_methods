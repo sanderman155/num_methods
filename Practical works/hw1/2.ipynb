{
 "cells": [
  {
   "cell_type": "code",
   "execution_count": 24,
   "metadata": {},
   "outputs": [],
   "source": [
    "import numpy as np\n",
    "import numpy.linalg as ln\n",
    "import matplotlib.pyplot as plt"
   ]
  },
  {
   "cell_type": "code",
   "execution_count": 38,
   "metadata": {},
   "outputs": [
    {
     "name": "stdout",
     "output_type": "stream",
     "text": [
      "4\n",
      "[[ 1188.07137478 -1269.54388443   938.74176139  -537.00401639]\n",
      " [-1269.54388443  2833.19270171  -507.0538742    405.85922753]\n",
      " [  938.74176139  -507.0538742   1006.7200735   -122.80727938]\n",
      " [ -537.00401639   405.85922753  -122.80727938  1609.08643007]]\n",
      "[[ 34.46841126   0.           0.           0.        ]\n",
      " [-36.83209751  38.42641403   0.           0.        ]\n",
      " [ 27.23484278  12.90941461   9.91616998   0.        ]\n",
      " [-15.57959873  -4.37121382  36.09563521   6.66034096]]\n",
      "[[ 34.46841126   0.           0.           0.        ]\n",
      " [-36.83209751  38.42641403   0.           0.        ]\n",
      " [ 27.23484278  12.90941461   9.91616998   0.        ]\n",
      " [-15.57959873  -4.37121382  36.09563521   6.66034096]]\n"
     ]
    }
   ],
   "source": [
    "n = int(input())\n",
    "L = np.random.uniform(-n, n, (n, n)) * 10\n",
    "for i in range(n):\n",
    "    L[i][i] = abs(L[i][i])\n",
    "    for j in range(n):\n",
    "        if (j > i) :\n",
    "            L[i][j] = 0\n",
    "A = L.dot(np.transpose(L))\n",
    "print(A)\n",
    "print(L)\n",
    "L = ln.cholesky(A)\n",
    "print(L)"
   ]
  },
  {
   "cell_type": "code",
   "execution_count": null,
   "metadata": {},
   "outputs": [],
   "source": []
  }
 ],
 "metadata": {
  "kernelspec": {
   "display_name": "Python 3",
   "language": "python",
   "name": "python3"
  },
  "language_info": {
   "codemirror_mode": {
    "name": "ipython",
    "version": 3
   },
   "file_extension": ".py",
   "mimetype": "text/x-python",
   "name": "python",
   "nbconvert_exporter": "python",
   "pygments_lexer": "ipython3",
   "version": "3.6.9"
  }
 },
 "nbformat": 4,
 "nbformat_minor": 2
}
