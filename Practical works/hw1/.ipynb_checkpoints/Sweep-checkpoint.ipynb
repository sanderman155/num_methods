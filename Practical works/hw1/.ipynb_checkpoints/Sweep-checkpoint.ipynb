{
 "cells": [
  {
   "cell_type": "code",
   "execution_count": 1,
   "metadata": {},
   "outputs": [],
   "source": [
    "import numpy as np\n",
    "import matplotlib.pyplot as plt\n",
    "import time\n",
    "\n"
   ]
  },
  {
   "cell_type": "code",
   "execution_count": 2,
   "metadata": {},
   "outputs": [
    {
     "name": "stdout",
     "output_type": "stream",
     "text": [
      "n = 1000\n",
      "time = 0.00623321533203125\n"
     ]
    },
    {
     "data": {
      "image/png": "[encoded data removed]",
      "text/plain": [
       "<Figure size 432x288 with 1 Axes>"
      ]
     },
     "metadata": {
      "needs_background": "light"
     },
     "output_type": "display_data"
    },
    {
     "ename": "ValueError",
     "evalue": "Precision not allowed in integer format specifier",
     "output_type": "error",
     "traceback": [
      "\u001b[0;31m---------------------------------------------------------------------------\u001b[0m",
      "\u001b[0;31mValueError\u001b[0m                                Traceback (most recent call last)",
      "\u001b[0;32m<ipython-input-2-79e7b455b8de>\u001b[0m in \u001b[0;36m<module>\u001b[0;34m\u001b[0m\n\u001b[1;32m     45\u001b[0m     \u001b[0mplt\u001b[0m\u001b[0;34m.\u001b[0m\u001b[0mshow\u001b[0m\u001b[0;34m(\u001b[0m\u001b[0;34m)\u001b[0m\u001b[0;34m\u001b[0m\u001b[0;34m\u001b[0m\u001b[0m\n\u001b[1;32m     46\u001b[0m     \u001b[0;32mif\u001b[0m \u001b[0mn\u001b[0m \u001b[0;34m%\u001b[0m \u001b[0;36m40\u001b[0m \u001b[0;34m==\u001b[0m \u001b[0;36m0\u001b[0m\u001b[0;34m:\u001b[0m\u001b[0;34m\u001b[0m\u001b[0;34m\u001b[0m\u001b[0m\n\u001b[0;32m---> 47\u001b[0;31m         \u001b[0mfig\u001b[0m\u001b[0;34m.\u001b[0m\u001b[0msavefig\u001b[0m\u001b[0;34m(\u001b[0m\u001b[0;34mf\"Sweep_graphics/{n:0.3d}x{n:0.3d}_{qTime:0.3f}sec.png\"\u001b[0m\u001b[0;34m)\u001b[0m\u001b[0;34m\u001b[0m\u001b[0;34m\u001b[0m\u001b[0m\n\u001b[0m\u001b[1;32m     48\u001b[0m \u001b[0mfig\u001b[0m\u001b[0;34m,\u001b[0m \u001b[0max\u001b[0m \u001b[0;34m=\u001b[0m \u001b[0mplt\u001b[0m\u001b[0;34m.\u001b[0m\u001b[0msubplots\u001b[0m\u001b[0;34m(\u001b[0m\u001b[0;34m)\u001b[0m\u001b[0;34m\u001b[0m\u001b[0;34m\u001b[0m\u001b[0m\n\u001b[1;32m     49\u001b[0m \u001b[0max\u001b[0m\u001b[0;34m.\u001b[0m\u001b[0mplot\u001b[0m\u001b[0;34m(\u001b[0m\u001b[0mnList\u001b[0m\u001b[0;34m,\u001b[0m \u001b[0mqTimeList\u001b[0m\u001b[0;34m)\u001b[0m\u001b[0;34m\u001b[0m\u001b[0;34m\u001b[0m\u001b[0m\n",
      "\u001b[0;31mValueError\u001b[0m: Precision not allowed in integer format specifier"
     ]
    }
   ],
   "source": [
    "def solve(a, b, c, f, n):\n",
    "    alpha = np.zeros(n + 1)\n",
    "    beta = np.zeros(n + 1)\n",
    "    for i in range(n):\n",
    "        d = a[i] * alpha[i] + b[i]\n",
    "        alpha[i + 1] = -c[i] / d\n",
    "        beta[i + 1] = (f[i] - a[i] * beta[i]) / d\n",
    "    x = np.zeros(n)\n",
    "    x[n - 1] = beta[n]\n",
    "    for i in range(n - 2, -1, -1):\n",
    "        x[i] = alpha[i + 1] * x[i + 1] + beta[i + 1]\n",
    "    return x\n",
    "\n",
    "qTime = 0.0\n",
    "n = 0\n",
    "nList = []\n",
    "qTimeList = []\n",
    "while qTime <= 0.03:\n",
    "    n += 1000\n",
    "    nList.append(n)\n",
    "    A = np.zeros((n,n)) \n",
    "    a = np.random.uniform(-n, n, n)\n",
    "    b = np.random.uniform(-n, n, n)\n",
    "    c = np.random.uniform(-n, n, n)\n",
    "    f = np.random.uniform(-n, n, n)\n",
    "    a[0], c[n - 1] = 0, 0\n",
    "    for i in range(n):\n",
    "        A[i][i] = abs(b[i])\n",
    "        if i > 0:\n",
    "            A[i][i - 1] = a[i]\n",
    "            A[i][i] = A[i][i] + abs(a[i])\n",
    "        if i < n - 1:\n",
    "            A[i][i + 1] = c[i]\n",
    "            A[i][i] = A[i][i] + abs(c[i])\n",
    "        b[i] = A[i][i]\n",
    "    y1 = np.linalg.solve(A, f)\n",
    "    startTime = time.time()\n",
    "    y2 = solve(a, b, c, f, n)\n",
    "    qTime = time.time() - startTime\n",
    "    qTimeList.append(qTime)\n",
    "    print(f\"n = {n}\")\n",
    "    print(f\"time = {qTime}\")\n",
    "    fig, ax = plt.subplots()\n",
    "    ax.plot(y2-y1)\n",
    "    plt.show()\n",
    "    if n % 40 == 0:\n",
    "        fig.savefig(f\"Sweep_graphics/{n:3d}x{n:3d}_{qTime:0.3f}sec.png\")\n",
    "fig, ax = plt.subplots()\n",
    "ax.plot(nList, qTimeList)\n",
    "plt.show()\n",
    "fig.savefig(\"Sweep_time_dependes_of_quantity.png\")\n"
   ]
  },
  {
   "cell_type": "code",
   "execution_count": null,
   "metadata": {},
   "outputs": [],
   "source": []
  }
 ],
 "metadata": {
  "kernelspec": {
   "display_name": "Python 3",
   "language": "python",
   "name": "python3"
  },
  "language_info": {
   "codemirror_mode": {
    "name": "ipython",
    "version": 3
   },
   "file_extension": ".py",
   "mimetype": "text/x-python",
   "name": "python",
   "nbconvert_exporter": "python",
   "pygments_lexer": "ipython3",
   "version": "3.6.9"
  }
 },
 "nbformat": 4,
 "nbformat_minor": 2
}
