{
 "cells": [
  {
   "cell_type": "code",
   "execution_count": 2,
   "metadata": {},
   "outputs": [],
   "source": [
    "import numpy as np\n",
    "import matplotlib.pyplot as plt\n",
    "import time"
   ]
  },
  {
   "cell_type": "code",
   "execution_count": 5,
   "metadata": {},
   "outputs": [
    {
     "name": "stdout",
     "output_type": "stream",
     "text": [
      "[0.15867882 0.61397106 0.25723669 0.06651642 0.67012593]\n"
     ]
    }
   ],
   "source": [
    "q = np.random.rand(5)\n",
    "print(q)"
   ]
  },
  {
   "cell_type": "code",
   "execution_count": 6,
   "metadata": {},
   "outputs": [
    {
     "name": "stdout",
     "output_type": "stream",
     "text": [
      "100\n"
     ]
    },
    {
     "data": {
      "image/png": "[encoded data removed]",
      "text/plain": [
       "<Figure size 432x288 with 1 Axes>"
      ]
     },
     "metadata": {
      "needs_background": "light"
     },
     "output_type": "display_data"
    },
    {
     "name": "stdout",
     "output_type": "stream",
     "text": [
      "0.24314498901367188\n"
     ]
    }
   ],
   "source": [
    "n = int(input())\n",
    "startTime = time.time()\n",
    "b = np.random.uniform(-n, n, (n, n)) * 10\n",
    "B = b\n",
    "for i in range(n):\n",
    "    for j in range(1, n):\n",
    "        b[i][i] = b[i][i] + abs(b[i][j])\n",
    "f = np.random.uniform(-n, n, n) * 100\n",
    "F = f\n",
    "x = np.random.uniform(-n, n, n)\n",
    "for i in range(n):\n",
    "    f[i] = f[i] / b[i][i]\n",
    "    b[i] = b[i] / b[i][i]\n",
    "    for j in range(i + 1, n):\n",
    "        f[j] = f[j] - f[i] * b[j][i]\n",
    "        b[j] = b[j] - b[i] * b[j][i]\n",
    "for i in range(n - 1, -1, -1):\n",
    "    x[i] = f[i]\n",
    "    for j in range(i + 1, n):\n",
    "        x[i] = x[i] - b[i][j] * x[j]\n",
    "X = np.linalg.solve(B, F)\n",
    "#plt.plot(x)\n",
    "plt.plot(X-x)\n",
    "plt.show()\n",
    "print(time.time() - startTime)"
   ]
  },
  {
   "cell_type": "code",
   "execution_count": null,
   "metadata": {},
   "outputs": [],
   "source": []
  },
  {
   "cell_type": "code",
   "execution_count": null,
   "metadata": {},
   "outputs": [],
   "source": []
  }
 ],
 "metadata": {
  "kernelspec": {
   "display_name": "Python 3",
   "language": "python",
   "name": "python3"
  },
  "language_info": {
   "codemirror_mode": {
    "name": "ipython",
    "version": 3
   },
   "file_extension": ".py",
   "mimetype": "text/x-python",
   "name": "python",
   "nbconvert_exporter": "python",
   "pygments_lexer": "ipython3",
   "version": "3.6.9"
  }
 },
 "nbformat": 4,
 "nbformat_minor": 2
}
