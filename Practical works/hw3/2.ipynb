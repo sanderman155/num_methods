{
 "cells": [
  {
   "cell_type": "code",
   "execution_count": 2,
   "metadata": {},
   "outputs": [],
   "source": [
    "import numpy as np\n",
    "import random\n",
    "import matplotlib.pyplot as plt"
   ]
  },
  {
   "cell_type": "code",
   "execution_count": 8,
   "metadata": {},
   "outputs": [
    {
     "name": "stdout",
     "output_type": "stream",
     "text": [
      "[1.21103509 1.38397007 1.61464226 3.82700372 4.06065451 5.28651326\n",
      " 6.97789453 7.79816481 9.15992854 9.82250007]\n",
      "[ 7.06879808 -7.33149408  7.89003409  1.30724415  5.17237851 -3.50784082\n",
      " -6.66852307  2.10745887  2.50283743  2.03856035]\n",
      "[2.8473655325240754, 3.674946715767537, 4.862890066446216, 5.512129885358429, 6.178760951758358]\n"
     ]
    },
    {
     "data": {
      "text/plain": [
       "[<matplotlib.lines.Line2D at 0x7fac655b9400>]"
      ]
     },
     "execution_count": 8,
     "metadata": {},
     "output_type": "execute_result"
    },
    {
     "data": {
      "image/png": "[encoded data removed]",
      "text/plain": [
       "<Figure size 432x288 with 1 Axes>"
      ]
     },
     "metadata": {
      "needs_background": "light"
     },
     "output_type": "display_data"
    }
   ],
   "source": [
    "#n = int(input())\n",
    "#x = sorted(np.array([random.uniform(0, n) for i in range(n)]))\n",
    "#y = np.random.uniform(-n, n, n)\n",
    "    \n",
    "def read_data(filename):\n",
    "    file = open(filename, 'r')\n",
    "    inputData = [float(line) for line in file]\n",
    "    file.close()\n",
    "    return inputData\n",
    "\n",
    "def write_data(filename, outputVec):\n",
    "    file = open(filename, 'w')\n",
    "    for ans in outputVec:\n",
    "        file.write(str(ans) + '\\n')\n",
    "    file.close()\n",
    "    return\n",
    "\n",
    "def phi(i, Z):\n",
    "    p = 1\n",
    "    for j in range(n):\n",
    "        if i == j:\n",
    "            continue\n",
    "        p = p * (Z - x[j]) / (x[i] - x[j])\n",
    "    return p\n",
    "\n",
    "def P(Z):\n",
    "    s = 0\n",
    "    for i in range(n):\n",
    "        s += y[i] * phi(i, Z)\n",
    "    return s\n",
    "\n",
    "x = np.array(read_data(\"train.dat\"))\n",
    "y = np.array(read_data(\"train.ans\"))\n",
    "z = np.array(read_data(\"test.dat\"))\n",
    "m = len(z)\n",
    "n = len(x)\n",
    "print(x)\n",
    "print(y)\n",
    "z = sorted(np.array([random.uniform(x[0], x[n - 1]) for i in range(m)]))\n",
    "ans = np.zeros(m)\n",
    "print(z)\n",
    "for i in range(m):\n",
    "    ans[i] = P(z[i])\n",
    "write_data(\"test.ans\", ans)\n",
    "fig = plt.figure()\n",
    "ax = fig.add_subplot(111)\n",
    "ax.scatter(z, ans)\n",
    "ax.plot(x, y)\n"
   ]
  },
  {
   "cell_type": "markdown",
   "metadata": {},
   "source": []
  }
 ],
 "metadata": {
  "kernelspec": {
   "display_name": "Python 3",
   "language": "python",
   "name": "python3"
  },
  "language_info": {
   "codemirror_mode": {
    "name": "ipython",
    "version": 3
   },
   "file_extension": ".py",
   "mimetype": "text/x-python",
   "name": "python",
   "nbconvert_exporter": "python",
   "pygments_lexer": "ipython3",
   "version": "3.6.9"
  }
 },
 "nbformat": 4,
 "nbformat_minor": 2
}
