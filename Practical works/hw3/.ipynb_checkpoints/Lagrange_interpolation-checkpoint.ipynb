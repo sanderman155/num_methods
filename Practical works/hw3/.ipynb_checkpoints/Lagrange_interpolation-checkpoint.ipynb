{
 "cells": [
  {
   "cell_type": "code",
   "execution_count": 38,
   "metadata": {},
   "outputs": [],
   "source": [
    "import numpy as np\n",
    "import random\n",
    "import matplotlib.pyplot as plt\n",
    "from scipy.interpolate import lagrange\n",
    "from numpy.polynomial.polynomial import Polynomial"
   ]
  },
  {
   "cell_type": "code",
   "execution_count": 39,
   "metadata": {},
   "outputs": [
    {
     "name": "stdout",
     "output_type": "stream",
     "text": [
      "[ 1.62903981  1.67903854  2.47318673  3.04606333  3.48123497  3.67066465\n",
      "  6.04902639  6.96234382  9.92368837 10.27343528 10.71087927 12.00202271\n",
      " 12.16935725 12.23316242 12.41001329 13.20373076 14.51456727 14.90906908\n",
      " 16.33418259 18.39048913]\n",
      "[12.16871035 19.51950922 12.70114371 13.71677562  2.23950673  5.99071459\n",
      "  1.15552458 13.72369773  5.44375088 10.60224708  5.35700587 10.0927894\n",
      " 19.68968173 10.78715491  1.35915626 17.89589424  4.24826826  6.89420987\n",
      " 19.28008135  0.25495178]\n",
      "[4.002570794859069, 6.2454031484530095, 7.519278727649912, 8.526631114349158, 9.149005478244849, 10.357657581617763, 11.858323880914316, 11.869363770078142, 18.062789636223894, 18.383473929997624]\n",
      "[ 2.65509300e+04 -2.66494872e+04  7.41054263e+04  6.66693689e+04\n",
      "  1.91134553e+04  8.67345682e+01 -6.38574117e+01 -5.58286215e+01\n",
      "  6.07761447e+08  3.13248186e+07]\n",
      "[26550.925678253174, -26649.679346561432, 74104.38865995407, 66665.62292146683, 19105.913566589355, 57.697449684143066, -200.8851842880249, -156.8646593093872, 607751904.1519024, 31315519.25356865]\n"
     ]
    },
    {
     "data": {
      "image/png": "[encoded data removed]",
      "text/plain": [
       "<Figure size 432x288 with 1 Axes>"
      ]
     },
     "metadata": {
      "needs_background": "light"
     },
     "output_type": "display_data"
    }
   ],
   "source": [
    "#n = int(input())\n",
    "#x = sorted(np.array([random.uniform(0, n) for i in range(n)]))\n",
    "#y = np.random.uniform(-n, n, n)\n",
    "    \n",
    "def read_data(filename):\n",
    "    file = open(filename, 'r')\n",
    "    inputData = [float(line) for line in file]\n",
    "    file.close()\n",
    "    return inputData\n",
    "\n",
    "def write_data(filename, outputVec):\n",
    "    file = open(filename, 'w')\n",
    "    for ans in outputVec:\n",
    "        file.write(str(ans) + '\\n')\n",
    "    file.close()\n",
    "    return\n",
    "\n",
    "def phi(i, Z):\n",
    "    p = 1\n",
    "    for j in range(n):\n",
    "        if i == j:\n",
    "            continue\n",
    "        p = p * (Z - x[j]) / (x[i] - x[j])\n",
    "    return p\n",
    "\n",
    "def P(Z):\n",
    "    s = 0\n",
    "    for i in range(n):\n",
    "        s += y[i] * phi(i, Z)\n",
    "    return s\n",
    "\n",
    "x = np.array(read_data(\"train/train.dat\"))\n",
    "y = np.array(read_data(\"train/train.ans\"))\n",
    "z = np.array(read_data(\"test/test.dat\"))\n",
    "m = len(z)\n",
    "n = len(x)\n",
    "print(x)\n",
    "print(y)\n",
    "z = sorted(np.array([random.uniform(x[0], x[n - 1]) for i in range(m)]))\n",
    "ans = np.zeros(m)\n",
    "print(z)\n",
    "poly = lagrange(x, y)\n",
    "dif = []\n",
    "for i in range(m):\n",
    "    ans[i] = P(z[i])\n",
    "    dif.append(poly(z[i]))\n",
    "write_data(\"test/test.ans\", ans)\n",
    "print(ans)\n",
    "print(dif)\n",
    "plt.plot(dif - ans)\n",
    "plt.show()\n",
    "#fig = plt.figure()\n",
    "#ax = fig.add_subplot(111)\n",
    "#ax.scatter(z, ans)\n",
    "#ax.plot(x, y)\n",
    "\n",
    "#plt.plot(x, y, 'o', z, ans)\n",
    "#plt.grid(True)\n",
    "#plt.show()\n",
    "#t.plot(x, y, linewidth=2.0)\n",
    "#lt.plot(z, ans, 'ro')\n",
    "#lt.show()\n"
   ]
  },
  {
   "cell_type": "markdown",
   "metadata": {},
   "source": []
  },
  {
   "cell_type": "code",
   "execution_count": null,
   "metadata": {},
   "outputs": [],
   "source": []
  }
 ],
 "metadata": {
  "kernelspec": {
   "display_name": "Python 3",
   "language": "python",
   "name": "python3"
  },
  "language_info": {
   "codemirror_mode": {
    "name": "ipython",
    "version": 3
   },
   "file_extension": ".py",
   "mimetype": "text/x-python",
   "name": "python",
   "nbconvert_exporter": "python",
   "pygments_lexer": "ipython3",
   "version": "3.6.9"
  }
 },
 "nbformat": 4,
 "nbformat_minor": 2
}
