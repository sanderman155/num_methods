{
 "cells": [
  {
   "cell_type": "code",
   "execution_count": 16,
   "metadata": {},
   "outputs": [],
   "source": [
    "import numpy as np\n",
    "import random"
   ]
  },
  {
   "cell_type": "code",
   "execution_count": 22,
   "metadata": {},
   "outputs": [
    {
     "name": "stdout",
     "output_type": "stream",
     "text": [
      "10\n",
      "[0 1 2 3 4 5 6 7 8 9] [87.03844383 13.80671954 60.60214251 84.22287329 74.64091291 52.45001136\n",
      " 57.97317358 83.54442458 83.74719205 97.98488187]\n",
      "5\n",
      "[1.5324483421794477, 1.8446803040941284, 4.558394626330765, 8.274026815397207, 9.459713734984273] [0. 0. 0. 0. 0. 0. 0. 0. 0. 0.]\n"
     ]
    }
   ],
   "source": [
    "def f(x, yi1, yi, xi1, xi):\n",
    "    return ((yi1 - yi)/(xi1 - xi)) * (x - xi) + yi\n",
    "    \n",
    "n = int(input())\n",
    "x = sorted(np.array([random.uniform(0, n) for i in range(n)]))\n",
    "y = np.random.rand(n) * 100\n",
    "print(x, y)\n",
    "m = int(input())\n",
    "z = sorted(np.array([random.uniform(0, n) for i in range(m)]))\n",
    "ans = np.zeros(n)\n",
    "print(z, ans)\n",
    "for i in range(m):\n",
    "    "
   ]
  },
  {
   "cell_type": "code",
   "execution_count": null,
   "metadata": {},
   "outputs": [],
   "source": []
  }
 ],
 "metadata": {
  "kernelspec": {
   "display_name": "Python 3",
   "language": "python",
   "name": "python3"
  },
  "language_info": {
   "codemirror_mode": {
    "name": "ipython",
    "version": 3
   },
   "file_extension": ".py",
   "mimetype": "text/x-python",
   "name": "python",
   "nbconvert_exporter": "python",
   "pygments_lexer": "ipython3",
   "version": "3.6.9"
  }
 },
 "nbformat": 4,
 "nbformat_minor": 2
}
