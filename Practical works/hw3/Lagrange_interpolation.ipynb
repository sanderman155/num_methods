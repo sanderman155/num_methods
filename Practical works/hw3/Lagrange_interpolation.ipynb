{
 "cells": [
  {
   "cell_type": "code",
   "execution_count": 2,
   "metadata": {},
   "outputs": [],
   "source": [
    "import numpy as np\n",
    "import random\n",
    "import matplotlib.pyplot as plt\n",
    "from scipy.interpolate import lagrange\n",
    "from numpy.polynomial.polynomial import Polynomial"
   ]
  },
  {
   "cell_type": "code",
   "execution_count": 24,
   "metadata": {},
   "outputs": [
    {
     "name": "stdout",
     "output_type": "stream",
     "text": [
      "[0.3502172  0.5853641  1.58737007 1.61615448 4.007907   4.51061416\n",
      " 7.24423974 7.50922596 8.64360431 8.87803562]\n",
      "[0.63358894 2.31849546 7.19879714 6.85444025 4.46602853 1.42330817\n",
      " 1.0745366  9.0020292  1.80523423 2.12946115]\n",
      "[0.4692059575904568, 0.5283890062275038, 0.879284979509567, 1.1646997951855922, 2.8672331302586285, 3.790305437970323, 4.548074966803945, 6.177549081999244, 7.1673513426798285, 8.514731382750274]\n",
      "[  0.90300818   1.52865391   7.03456364   9.46792395  -3.37973791\n",
      "   3.79798303   0.92456066 -24.65258305  -1.50742166   4.55886886]\n",
      "[0.9030081831762047, 1.528653907882747, 7.0345636393533635, 9.467923949735361, -3.379737908623685, 3.797983030715054, 0.9245606596563967, -24.65258305401623, -1.507421656312232, 4.558868858110785]\n"
     ]
    },
    {
     "data": {
      "image/png": "[encoded data removed]",
      "text/plain": [
       "<Figure size 432x288 with 1 Axes>"
      ]
     },
     "metadata": {
      "needs_background": "light"
     },
     "output_type": "display_data"
    }
   ],
   "source": [
    "#n = int(input())\n",
    "#x = sorted(np.array([random.uniform(0, n) for i in range(n)]))\n",
    "#y = np.random.uniform(-n, n, n)\n",
    "    \n",
    "def read_data(filename):\n",
    "    file = open(filename, 'r')\n",
    "    inputData = [float(line) for line in file]\n",
    "    file.close()\n",
    "    return inputData\n",
    "\n",
    "def write_data(filename, outputVec):\n",
    "    file = open(filename, 'w')\n",
    "    for ans in outputVec:\n",
    "        file.write(str(ans) + '\\n')\n",
    "    file.close()\n",
    "    return\n",
    "\n",
    "def phi(i, Z):\n",
    "    p = 1\n",
    "    for j in range(n):\n",
    "        if i == j:\n",
    "            continue\n",
    "        p = p * (Z - x[j]) / (x[i] - x[j])\n",
    "    return p\n",
    "\n",
    "def P(Z):\n",
    "    s = 0\n",
    "    for i in range(n):\n",
    "        s += y[i] * phi(i, Z)\n",
    "    return s\n",
    "\n",
    "x = np.array(read_data(\"train/train.dat\"))\n",
    "y = np.array(read_data(\"train/train.ans\"))\n",
    "z = np.array(read_data(\"test/test.dat\"))\n",
    "m = len(z)\n",
    "n = len(x)\n",
    "print(x)\n",
    "print(y)\n",
    "z = sorted(np.array([random.uniform(x[0], x[n - 1]) for i in range(m)]))\n",
    "ans = np.zeros(m)\n",
    "print(z)\n",
    "poly = lagrange(x, y)\n",
    "dif = []\n",
    "for i in range(m):\n",
    "    ans[i] = P(z[i])\n",
    "    dif.append(poly(z[i]))\n",
    "write_data(\"test/test.ans\", ans)\n",
    "print(ans)\n",
    "print(dif)\n",
    "#plt.plot(dif - ans)\n",
    "#plt.show()\n",
    "fig = plt.figure()\n",
    "ax = fig.add_subplot(111)\n",
    "ax.plot(dif - ans)\n",
    "plt.show()\n",
    "fig.savefig(\"lagrange_interpolation.png\")\n",
    "#fig = plt.figure()\n",
    "#ax = fig.add_subplot(111)\n",
    "#ax.scatter(z, ans)\n",
    "#ax.plot(x, y)\n",
    "\n",
    "#plt.plot(x, y, 'o', z, ans)\n",
    "#plt.grid(True)\n",
    "#plt.show()\n",
    "#t.plot(x, y, linewidth=2.0)\n",
    "#lt.plot(z, ans, 'ro')\n",
    "#lt.show()\n"
   ]
  },
  {
   "cell_type": "code",
   "execution_count": null,
   "metadata": {},
   "outputs": [],
   "source": []
  }
 ],
 "metadata": {
  "kernelspec": {
   "display_name": "Python 3",
   "language": "python",
   "name": "python3"
  },
  "language_info": {
   "codemirror_mode": {
    "name": "ipython",
    "version": 3
   },
   "file_extension": ".py",
   "mimetype": "text/x-python",
   "name": "python",
   "nbconvert_exporter": "python",
   "pygments_lexer": "ipython3",
   "version": "3.6.9"
  }
 },
 "nbformat": 4,
 "nbformat_minor": 2
}
