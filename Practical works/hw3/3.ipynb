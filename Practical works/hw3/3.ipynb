{
 "cells": [
  {
   "cell_type": "code",
   "execution_count": 1,
   "metadata": {},
   "outputs": [],
   "source": [
    "import numpy as np\n",
    "import random\n",
    "import matplotlib.pyplot as plt"
   ]
  },
  {
   "cell_type": "code",
   "execution_count": 10,
   "metadata": {},
   "outputs": [
    {
     "name": "stdout",
     "output_type": "stream",
     "text": [
      "[ 1.16319078  2.03134396  2.89949713  3.7676503   4.63580347  5.50395665\n",
      "  6.37210982  7.24026299  8.10841616  8.97656934  9.84472251 10.71287568\n",
      " 11.58102885 12.44918203 13.3173352  14.18548837 15.05364154 15.92179472\n",
      " 16.78994789 17.65810106] [ 10.94480872  -0.03139283   6.97738489  18.68267683 -10.25349095\n",
      "   3.3558473   -0.96096445  13.38390289   1.80353342  12.45050467\n",
      "   8.32596566   4.66868476   3.98799145  12.12643067  -1.81550837\n",
      "  19.44839379 -10.5923948    6.94911907  11.64636288  13.50626817]\n",
      "[1.70741245 2.44858284 6.05311552 6.0996796  8.16721375]\n",
      "[1.72601084 9.62715476 6.84460555 4.9821204  1.26631562]\n"
     ]
    },
    {
     "data": {
      "text/plain": [
       "[<matplotlib.lines.Line2D at 0x7f8ab2a0db00>]"
      ]
     },
     "execution_count": 10,
     "metadata": {},
     "output_type": "execute_result"
    },
    {
     "data": {
      "image/png": "[encoded data removed]",
      "text/plain": [
       "<Figure size 432x288 with 1 Axes>"
      ]
     },
     "metadata": {
      "needs_background": "light"
     },
     "output_type": "display_data"
    }
   ],
   "source": [
    "def read_data(filename):\n",
    "    file = open(filename, 'r')\n",
    "    inputData = [float(line) for line in file]\n",
    "    file.close()\n",
    "    return inputData\n",
    "\n",
    "def write_data(filename, outputVec):\n",
    "    file = open(filename, 'w')\n",
    "    for ans in outputVec:\n",
    "        file.write(str(ans) + '\\n')\n",
    "    file.close()\n",
    "    return\n",
    "\n",
    "def sweep(n, a, b, c, f):\n",
    "    alpha = np.zeros(n)\n",
    "    beta = np.zeros(n)\n",
    "    for i in range(n - 1):\n",
    "        d = a[i] * alpha[i] + b[i]\n",
    "        alpha[i + 1] = -c[i] / d\n",
    "        beta[i + 1] = (f[i] - a[i] * beta[i]) / d\n",
    "    x = np.zeros(n)\n",
    "    x[n - 1] = beta[n - 1]\n",
    "    for i in range(n - 2, -1, -1):\n",
    "        x[i] = alpha[i + 1] * x[i + 1] + beta[i + 1]\n",
    "    return x\n",
    "\n",
    "def generateSpline(x, y):\n",
    "#    n = x.shape[0] - 1\n",
    "    h = (x[n - 1] - x[0]) / n\n",
    "    a = np.array([0] + [1] * (n - 2) + [0])\n",
    "    b = np.array([1] + [4] * (n - 2) + [1])\n",
    "    c = np.array([0] + [1] * (n - 2) + [0])\n",
    "    f = np.zeros(n)\n",
    "    for i in range(1, n - 1):\n",
    "        f[i] = 3 * (y[i - 1] - 2 * y[i] + y[i + 1]) / h ** 2\n",
    "    s = sweep(n + 1, a, b, c, f)\n",
    "    A = np.zeros(n + 1)\n",
    "    B = np.zeros(n + 1)\n",
    "    C = np.zeros(n + 1)\n",
    "    D = np.zeros(n + 1)\n",
    "    for i in range(n - 1):\n",
    "        B[i] = s[i]\n",
    "        A[i] = (B[i + 1] - B[i]) / (3 * h)\n",
    "        C[i] = (y[i + 1] - y[i]) / h - (B[i + 1] + 2 * B[i]) * h / 3\n",
    "        D[i] = y[i]\n",
    "    return A, B, C, D\n",
    "\n",
    "def P(z):\n",
    "    i = int(z)\n",
    "    diff = z - x[i]\n",
    "    return A[i] * diff ** 3 + B[i] * diff ** 2 + C[i] * diff + D[i]\n",
    "\n",
    "x = np.array(read_data(\"train3.dat\"))\n",
    "y = np.array(read_data(\"train.ans\"))\n",
    "z = np.array(read_data(\"test.dat\"))\n",
    "m = len(z)\n",
    "n = len(x)\n",
    "\n",
    "A, B, C, D = generateSpline(x, y)\n",
    "\n",
    "#m = int(input())\n",
    "#z = sorted(np.array([random.uniform(x[0], x[n - 1]) for i in range(m)]))\n",
    "ans = np.zeros(m)\n",
    "print(x, y)\n",
    "print(z)\n",
    "plt.plot\n",
    "for i in range(m):\n",
    "    ans[i] = P(z[i])\n",
    "print(ans)\n",
    "write_data(\"test.ans\", ans)\n",
    "fig = plt.figure()\n",
    "ax = fig.add_subplot(111)\n",
    "ax.scatter(z, ans)\n",
    "ax.plot(x, y)\n"
   ]
  },
  {
   "cell_type": "code",
   "execution_count": null,
   "metadata": {},
   "outputs": [],
   "source": []
  }
 ],
 "metadata": {
  "kernelspec": {
   "display_name": "Python 3",
   "language": "python",
   "name": "python3"
  },
  "language_info": {
   "codemirror_mode": {
    "name": "ipython",
    "version": 3
   },
   "file_extension": ".py",
   "mimetype": "text/x-python",
   "name": "python",
   "nbconvert_exporter": "python",
   "pygments_lexer": "ipython3",
   "version": "3.6.9"
  }
 },
 "nbformat": 4,
 "nbformat_minor": 2
}
