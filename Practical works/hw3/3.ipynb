{
 "cells": [
  {
   "cell_type": "code",
   "execution_count": 2,
   "metadata": {},
   "outputs": [],
   "source": [
    "import numpy as np\n",
    "import random\n",
    "import matplotlib.pyplot as plt"
   ]
  },
  {
   "cell_type": "code",
   "execution_count": 4,
   "metadata": {},
   "outputs": [
    {
     "name": "stdout",
     "output_type": "stream",
     "text": [
      "10\n",
      "5\n",
      "[4.50129050682979, 4.669502386592789, 4.877347752753617, 5.696087072616322, 5.974520414189639, 7.77121236258237, 8.109613325269756, 8.430132058624707, 9.154180139212208, 9.553790345913285] [ 4.32109301 -7.36280345  2.11478996  7.0558073  -8.03770511 -1.87789322\n",
      "  3.71378996 -0.78703716  7.24977269  6.50627777]\n",
      "[5.091811314960052, 6.5436346712074265, 7.611598918603473, 8.297067297041346, 8.461201390064163]\n"
     ]
    }
   ],
   "source": [
    "n = int(input())\n",
    "x = sorted(np.array([random.uniform(0, n) for i in range(n)]))\n",
    "y = np.random.uniform(-n, n, n)\n",
    "\n",
    "def sweep(n, a, b, c, f):\n",
    "    alpha = np.zeros(n)\n",
    "    beta = np.zeros(n)\n",
    "    for i in range(n - 1):\n",
    "        d = a[i] * alpha[i] + b[i]\n",
    "        alpha[i + 1] = -c[i] / d\n",
    "        beta[i + 1] = (f[i] - a[i] * beta[i]) / d\n",
    "    x = np.zeros(n)\n",
    "    x[n - 1] = beta[n - 1]\n",
    "    for i in range(n - 2, -1, -1):\n",
    "        x[i] = alpha[i + 1] * x[i + 1] + beta[i + 1]\n",
    "    return x\n",
    "\n",
    "def generateSpline(x, y):\n",
    "#    n = x.shape[0] - 1\n",
    "    h = (x[n - 1] - x[0]) / n\n",
    "    a = np.array([0] + [1] * (n - 2) + [0])\n",
    "    b = np.array([1] + [4] * (n - 2) + [1])\n",
    "    c = np.array([0] + [1] * (n - 2) + [0])\n",
    "    f = np.zeros(n)\n",
    "    for i in range(1, n - 1):\n",
    "        f[i] = 3 * (y[i - 1] - 2 * y[i] + y[i + 1]) / h ** 2\n",
    "    s = sweep(n + 1, a, b, c, f)\n",
    "    A = np.zeros(n + 1)\n",
    "    B = np.zeros(n + 1)\n",
    "    C = np.zeros(n + 1)\n",
    "    D = np.zeros(n + 1)\n",
    "    for i in range(n - 1):\n",
    "        B[i] = s[i]\n",
    "        A[i] = (B[i + 1] - B[i]) / (3 * h)\n",
    "        C[i] = (y[i + 1] - y[i]) / h - (B[i + 1] + 2 * B[i]) * h / 3\n",
    "        D[i] = y[i]\n",
    "    return A, B, C, D\n",
    "\n",
    "def P(z):\n",
    "    i = int(z)\n",
    "    diff = z - x[i]\n",
    "    return A[i] * diff ** 3 + B[i] * diff ** 2 + C[i] * diff + D[i]\n",
    "\n",
    "\n",
    "A, B, C, D = generateSpline(x, y)\n",
    "\n",
    "m = int(input())\n",
    "z = sorted(np.array([random.uniform(x[0], x[n - 1]) for i in range(m)]))\n",
    "ans = np.zeros(m)\n",
    "print(x, y)\n",
    "print(z)\n",
    "for i in range(m):\n",
    "    ans[i] = P(z[i])"
   ]
  },
  {
   "cell_type": "markdown",
   "metadata": {},
   "source": []
  }
 ],
 "metadata": {
  "kernelspec": {
   "display_name": "Python 3",
   "language": "python",
   "name": "python3"
  },
  "language_info": {
   "codemirror_mode": {
    "name": "ipython",
    "version": 3
   },
   "file_extension": ".py",
   "mimetype": "text/x-python",
   "name": "python",
   "nbconvert_exporter": "python",
   "pygments_lexer": "ipython3",
   "version": "3.6.9"
  }
 },
 "nbformat": 4,
 "nbformat_minor": 2
}
