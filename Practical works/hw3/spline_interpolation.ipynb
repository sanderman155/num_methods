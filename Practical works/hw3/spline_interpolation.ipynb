{
 "cells": [
  {
   "cell_type": "code",
   "execution_count": 7,
   "metadata": {},
   "outputs": [],
   "source": [
    "import numpy as np\n",
    "import random\n",
    "import matplotlib.pyplot as plt\n",
    "#from scipy.interpolate import UnivariateSpline\n",
    "import scipy.interpolate"
   ]
  },
  {
   "cell_type": "code",
   "execution_count": 15,
   "metadata": {},
   "outputs": [
    {
     "name": "stdout",
     "output_type": "stream",
     "text": [
      "[ 2.3386909   3.21402451  4.08935812  4.96469174  5.84002535  6.71535896\n",
      "  7.59069258  8.46602619  9.3413598  10.21669342 11.09202703 11.96736064\n",
      " 12.84269425 13.71802787 14.59336148 15.46869509 16.34402871 17.21936232\n",
      " 18.09469593 18.97002955] [ 14.22424906 -19.70027361   4.80228325  11.37713206 -13.93289181\n",
      " -13.06868581   5.01750782   5.22440277 -17.60327208  19.82264028\n",
      "  -1.47332937   9.99408688 -16.0586461   11.59480833   4.01501123\n",
      " -16.3238543   19.86188205  -1.9779264    0.55181231  -2.63615745]\n",
      "[ 3.63906546  4.5611144   5.55017428  8.35143834 11.50429895 11.93931968\n",
      " 12.19726685 13.75632583 16.66091785 18.09906362]\n",
      "[-72.10073854  93.74477965  -4.87128495 139.8132804  -19.0484948\n",
      "   9.47981569  44.98407726  12.35134063  20.34759726   0.58391894]\n"
     ]
    },
    {
     "data": {
      "image/png": "[encoded data removed]",
      "text/plain": [
       "<Figure size 432x288 with 1 Axes>"
      ]
     },
     "metadata": {
      "needs_background": "light"
     },
     "output_type": "display_data"
    }
   ],
   "source": [
    "def read_data(filename):\n",
    "    file = open(filename, 'r')\n",
    "    inputData = [float(line) for line in file]\n",
    "    file.close()\n",
    "    return inputData\n",
    "\n",
    "def write_data(filename, outputVec):\n",
    "    file = open(filename, 'w')\n",
    "    for ans in outputVec:\n",
    "        file.write(str(ans) + '\\n')\n",
    "    file.close()\n",
    "    return\n",
    "\n",
    "def sweep(n, a, b, c, f):\n",
    "    alpha = np.zeros(n)\n",
    "    beta = np.zeros(n)\n",
    "    for i in range(n - 1):\n",
    "        d = a[i] * alpha[i] + b[i]\n",
    "        alpha[i + 1] = -c[i] / d\n",
    "        beta[i + 1] = (f[i] - a[i] * beta[i]) / d\n",
    "    x = np.zeros(n)\n",
    "    x[n - 1] = beta[n - 1]\n",
    "    for i in range(n - 2, -1, -1):\n",
    "        x[i] = alpha[i + 1] * x[i + 1] + beta[i + 1]\n",
    "    return x\n",
    "\n",
    "def generateSpline(x, y):\n",
    "#    n = x.shape[0] - 1\n",
    "    h = (x[n - 1] - x[0]) / n\n",
    "    a = np.array([0] + [1] * (n - 2) + [0])\n",
    "    b = np.array([1] + [4] * (n - 2) + [1])\n",
    "    c = np.array([0] + [1] * (n - 2) + [0])\n",
    "    f = np.zeros(n)\n",
    "    for i in range(1, n - 1):\n",
    "        f[i] = 3 * (y[i - 1] - 2 * y[i] + y[i + 1]) / h ** 2\n",
    "    s = sweep(n + 1, a, b, c, f)\n",
    "    A = np.zeros(n + 1)\n",
    "    B = np.zeros(n + 1)\n",
    "    C = np.zeros(n + 1)\n",
    "    D = np.zeros(n + 1)\n",
    "    for i in range(n - 1):\n",
    "        B[i] = s[i]\n",
    "        A[i] = (B[i + 1] - B[i]) / (3 * h)\n",
    "        C[i] = (y[i + 1] - y[i]) / h - (B[i + 1] + 2 * B[i]) * h / 3\n",
    "        D[i] = y[i]\n",
    "    return A, B, C, D\n",
    "\n",
    "def P(z):\n",
    "    i = int(z)\n",
    "    diff = z - x[i]\n",
    "    return A[i] * diff ** 3 + B[i] * diff ** 2 + C[i] * diff + D[i]\n",
    "\n",
    "x = np.array(read_data(\"train_for_spline_interpolation/train.dat\"))\n",
    "y = np.array(read_data(\"train_for_spline_interpolation/train.ans\"))\n",
    "z = np.array(read_data(\"test/test.dat\"))\n",
    "m = len(z)\n",
    "n = len(x)\n",
    "\n",
    "A, B, C, D = generateSpline(x, y)\n",
    "\n",
    "#m = int(input())\n",
    "#z = sorted(np.array([random.uniform(x[0], x[n - 1]) for i in range(m)]))\n",
    "ans = np.zeros(m)\n",
    "print(x, y)\n",
    "print(z)\n",
    "plt.plot\n",
    "for i in range(m):\n",
    "    ans[i] = P(z[i])\n",
    "print(ans)\n",
    "write_data(\"test.ans\", ans)\n",
    "fig = plt.figure()\n",
    "ax = fig.add_subplot(111)\n",
    "ax.scatter(z, ans)\n",
    "ax.plot(x, y)\n",
    "fig.savefig(\"spline_interpolation.png\")"
   ]
  },
  {
   "cell_type": "code",
   "execution_count": null,
   "metadata": {},
   "outputs": [],
   "source": []
  },
  {
   "cell_type": "code",
   "execution_count": null,
   "metadata": {},
   "outputs": [],
   "source": []
  }
 ],
 "metadata": {
  "kernelspec": {
   "display_name": "Python 3",
   "language": "python",
   "name": "python3"
  },
  "language_info": {
   "codemirror_mode": {
    "name": "ipython",
    "version": 3
   },
   "file_extension": ".py",
   "mimetype": "text/x-python",
   "name": "python",
   "nbconvert_exporter": "python",
   "pygments_lexer": "ipython3",
   "version": "3.6.9"
  }
 },
 "nbformat": 4,
 "nbformat_minor": 2
}
