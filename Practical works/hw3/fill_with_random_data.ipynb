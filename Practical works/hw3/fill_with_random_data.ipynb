{
 "cells": [
  {
   "cell_type": "code",
   "execution_count": 2,
   "metadata": {},
   "outputs": [],
   "source": [
    "import numpy as np\n",
    "import random"
   ]
  },
  {
   "cell_type": "markdown",
   "metadata": {},
   "source": [
    "# for first, second task"
   ]
  },
  {
   "cell_type": "code",
   "execution_count": 3,
   "metadata": {},
   "outputs": [
    {
     "name": "stdout",
     "output_type": "stream",
     "text": [
      "10\n",
      "5\n"
     ]
    }
   ],
   "source": [
    "def write_data(filename, outputVec):\n",
    "    file = open(filename, 'w')\n",
    "    for ans in outputVec:\n",
    "        file.write(str(ans) + '\\n')\n",
    "    file.close()\n",
    "    return\n",
    "\n",
    "n = int(input())\n",
    "m = int(input())\n",
    "\n",
    "x = sorted(np.array([random.uniform(0, n) for i in range(n)]))\n",
    "y = np.random.uniform(-n, n, n)\n",
    "z = sorted(np.array([random.uniform(x[0], x[n - 1]) for i in range(m)]))\n",
    "\n",
    "write_data(\"train.dat\", x)\n",
    "write_data(\"train.ans\", y)\n",
    "write_data(\"test.dat\", z)\n"
   ]
  },
  {
   "cell_type": "markdown",
   "metadata": {},
   "source": [
    "## for third task\n"
   ]
  },
  {
   "cell_type": "code",
   "execution_count": 11,
   "metadata": {},
   "outputs": [
    {
     "name": "stdout",
     "output_type": "stream",
     "text": [
      "20\n",
      "10\n",
      "0.9781990129493149\n"
     ]
    }
   ],
   "source": [
    "def write_data(filename, outputVec):\n",
    "    file = open(filename, 'w')\n",
    "    for ans in outputVec:\n",
    "        file.write(str(ans) + '\\n')\n",
    "    file.close()\n",
    "    return\n",
    "\n",
    "n = int(input())\n",
    "m = int(input())\n",
    "\n",
    "x = sorted(np.array([random.uniform(0, n) for i in range(n)]))\n",
    "h = (x[n - 1] - x[0]) / (n - 1)\n",
    "print(h)\n",
    "for i in range(1, n - 1):\n",
    "    x[i] = x[0] + i * h\n",
    "y = np.random.uniform(-n, n, n)\n",
    "z = sorted(np.array([random.uniform(x[0], x[n - 1]) for i in range(m)]))\n",
    "\n",
    "write_data(\"train3.dat\", x)\n",
    "write_data(\"train.ans\", y)\n",
    "write_data(\"test.dat\", z)\n"
   ]
  },
  {
   "cell_type": "code",
   "execution_count": null,
   "metadata": {},
   "outputs": [],
   "source": []
  }
 ],
 "metadata": {
  "kernelspec": {
   "display_name": "Python 3",
   "language": "python",
   "name": "python3"
  },
  "language_info": {
   "codemirror_mode": {
    "name": "ipython",
    "version": 3
   },
   "file_extension": ".py",
   "mimetype": "text/x-python",
   "name": "python",
   "nbconvert_exporter": "python",
   "pygments_lexer": "ipython3",
   "version": "3.6.9"
  }
 },
 "nbformat": 4,
 "nbformat_minor": 2
}
