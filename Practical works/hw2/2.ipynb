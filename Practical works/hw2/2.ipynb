{
 "cells": [
  {
   "cell_type": "code",
   "execution_count": 1,
   "metadata": {},
   "outputs": [],
   "source": [
    "import scipy.linalg\n",
    "import numpy as np\n",
    "import matplotlib.pyplot as plt\n",
    "import time"
   ]
  },
  {
   "cell_type": "code",
   "execution_count": 3,
   "metadata": {},
   "outputs": [
    {
     "name": "stdout",
     "output_type": "stream",
     "text": [
      "10\n",
      "[[1.04198423e+02 9.86325606e+00 1.41374698e+00 2.31912280e-01\n",
      "  9.76972441e+00 1.27965247e+00 9.62536495e+00 2.84817067e+00\n",
      "  3.67590464e+00 1.42575087e+00]\n",
      " [7.96215932e+00 1.08247757e+02 3.57859869e+00 2.81089524e+00\n",
      "  1.18528392e+00 5.04873359e-01 4.54105334e+00 3.01312335e+00\n",
      "  1.42529619e+00 4.09835841e+00]\n",
      " [9.17222224e+00 5.94826722e+00 1.01921278e+02 3.50011058e+00\n",
      "  3.03497469e-02 9.02811223e+00 5.49408745e+00 5.55723072e+00\n",
      "  6.89695463e+00 4.76045377e+00]\n",
      " [7.59335257e+00 3.07149847e+00 8.28647082e+00 1.08856299e+02\n",
      "  2.86992853e+00 2.27959052e+00 7.40110926e+00 9.45913408e+00\n",
      "  2.11033802e+00 2.90385853e+00]\n",
      " [3.90269020e+00 8.69882186e-01 3.92411406e+00 9.11971018e+00\n",
      "  1.00091551e+02 8.12512426e+00 2.32013045e+00 9.18992540e+00\n",
      "  2.49471314e+00 6.28654685e+00]\n",
      " [1.86977776e+00 3.34294078e+00 1.40508972e+00 1.65282176e+00\n",
      "  7.31294205e+00 1.01128605e+02 2.46434739e-01 6.79669453e+00\n",
      "  4.17320618e-01 7.29229059e+00]\n",
      " [5.06254029e+00 9.08958683e+00 8.15385072e+00 5.97488544e+00\n",
      "  1.91538022e-01 4.37571183e+00 1.07888189e+02 8.22154416e+00\n",
      "  1.03345207e+00 2.04878145e+00]\n",
      " [5.38106841e+00 1.00931552e+00 4.93984685e+00 5.63729202e+00\n",
      "  8.33278300e+00 8.03375419e+00 5.85729021e+00 1.07440678e+02\n",
      "  7.28238322e+00 9.56182482e+00]\n",
      " [3.66195976e+00 6.62073533e+00 9.17573789e+00 9.65390849e-01\n",
      "  9.29371376e-02 2.55543026e+00 5.99788509e+00 8.31995608e+00\n",
      "  1.01391821e+02 8.78144864e+00]\n",
      " [8.79995165e+00 3.45418399e+00 1.38322443e-01 4.36884182e+00\n",
      "  4.18224511e+00 2.94826635e+00 9.03176712e+00 4.03291251e+00\n",
      "  8.00781568e+00 1.03537756e+02]]\n",
      "[8.92289242 4.90915692 8.26537091 6.13754519 8.01160148 7.94493882\n",
      " 9.59453748 2.24219936 2.73276659 8.82863074]\n"
     ]
    },
    {
     "data": {
      "image/png": "[encoded data removed]",
      "text/plain": [
       "<Figure size 432x288 with 1 Axes>"
      ]
     },
     "metadata": {
      "needs_background": "light"
     },
     "output_type": "display_data"
    },
    {
     "name": "stdout",
     "output_type": "stream",
     "text": [
      "0.1574230194091797\n"
     ]
    }
   ],
   "source": [
    "eps = 0.000001\n",
    "n = int(input())\n",
    "startTime = time.time()\n",
    "def dif(x, xnew):\n",
    "    s = 0\n",
    "    for i in range(n):\n",
    "        s += xnew[i] - x[i]\n",
    "    s *= s\n",
    "    return s\n",
    "    \n",
    "def zeidel(A, f, x):\n",
    "    xnw = [0] * n\n",
    "    for i in range(n):\n",
    "        s = 0\n",
    "        for j in range(i):\n",
    "            s = s + A[i][j] * xnw[j]\n",
    "        for j in range(i + 1, n):\n",
    "            s = s + A[i][j] * x[j]            \n",
    "        xnw[i] = (f[i] - s) / A[i][i]\n",
    "    return xnw\n",
    "\n",
    "def solve(A, f):\n",
    "    xnew = np.random.uniform(0, n, n)\n",
    "    while True:\n",
    "        x = xnew\n",
    "        xnew = zeidel(A, f, x)\n",
    "        if dif(x, xnew) < eps:\n",
    "            break\n",
    "    return xnew\n",
    "\n",
    "A = np.random.uniform(0, n, (n, n))\n",
    "for i in range(n):\n",
    "    A[i][i] = A[i][i] + n * n;\n",
    "f = np.random.uniform(0, n, n)\n",
    "print(A)\n",
    "print(f)\n",
    "plt.plot(np.linalg.solve(A, f) - solve(A, f))\n",
    "plt.show()\n",
    "print(time.time() - startTime)"
   ]
  },
  {
   "cell_type": "code",
   "execution_count": null,
   "metadata": {},
   "outputs": [],
   "source": []
  }
 ],
 "metadata": {
  "kernelspec": {
   "display_name": "Python 3",
   "language": "python",
   "name": "python3"
  },
  "language_info": {
   "codemirror_mode": {
    "name": "ipython",
    "version": 3
   },
   "file_extension": ".py",
   "mimetype": "text/x-python",
   "name": "python",
   "nbconvert_exporter": "python",
   "pygments_lexer": "ipython3",
   "version": "3.6.9"
  }
 },
 "nbformat": 4,
 "nbformat_minor": 2
}
