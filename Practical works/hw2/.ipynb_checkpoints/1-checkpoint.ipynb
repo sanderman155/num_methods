{
 "cells": [
  {
   "cell_type": "code",
   "execution_count": 26,
   "metadata": {},
   "outputs": [
    {
     "name": "stdout",
     "output_type": "stream",
     "text": [
      "5\n",
      "[[29.73374727  1.63399244  1.8480204   3.78730798  1.87352428]\n",
      " [ 0.74657197 29.38901106  0.34390254  3.71255869  4.36036127]\n",
      " [ 2.50206501  4.2098463  29.21600137  2.78796325  2.43834789]\n",
      " [ 2.12063875  4.4246731   0.50548211 27.93396147  2.29638356]\n",
      " [ 4.99244763  1.15574968  3.90474367  3.09101574 28.84629405]]\n",
      "[1.26094455 4.00550157 0.36073755 4.469084   1.26172808]\n"
     ]
    },
    {
     "data": {
      "image/png": "[encoded data removed]",
      "text/plain": [
       "<Figure size 432x288 with 1 Axes>"
      ]
     },
     "metadata": {
      "needs_background": "light"
     },
     "output_type": "display_data"
    }
   ],
   "source": [
    "eps = 0.00001\n",
    "n = int(input())\n",
    "\n",
    "def dif(x, xnew):\n",
    "    s = 0\n",
    "    for i in range(n):\n",
    "        s += xnew[i] - x[i]\n",
    "    s *= s\n",
    "    return s\n",
    "    \n",
    "def jacobi(A, f, x):\n",
    "    xnw = [0] * n\n",
    "    for i in range(n):\n",
    "        s = 0\n",
    "        for j in range(i):\n",
    "            s = s + A[i][j] * x[j]\n",
    "        for j in range(i + 1, n):\n",
    "            s = s + A[i][j] * x[j]            \n",
    "        xnw[i] = (f[i] - s) / A[i][i]\n",
    "    return xnw\n",
    "\n",
    "def solve(A, f):\n",
    "    xnew = np.random.uniform(0, n, n)\n",
    "    while True:\n",
    "        x = xnew\n",
    "        xnew = jacobi(A, f, x)\n",
    "        if dif(x, xnew) <= eps:\n",
    "            break\n",
    "    return xnew\n",
    "\n",
    "A = np.random.uniform(0, n, (n, n))\n",
    "for i in range(n):\n",
    "    A[i][i] = A[i][i] + n * n;\n",
    "f = np.random.uniform(0, n, n)\n",
    "print(A)\n",
    "print(f)\n",
    "plt.plot(np.linalg.solve(A, f) - solve(A, f))\n",
    "plt.show()\n"
   ]
  },
  {
   "cell_type": "code",
   "execution_count": null,
   "metadata": {},
   "outputs": [],
   "source": [
    "#### import scipy.linalg\n",
    "import numpy as np\n",
    "import matplotlib.pyplot as plt\n"
   ]
  },
  {
   "cell_type": "code",
   "execution_count": null,
   "metadata": {},
   "outputs": [],
   "source": []
  },
  {
   "cell_type": "code",
   "execution_count": null,
   "metadata": {},
   "outputs": [],
   "source": []
  }
 ],
 "metadata": {
  "kernelspec": {
   "display_name": "Python 3",
   "language": "python",
   "name": "python3"
  },
  "language_info": {
   "codemirror_mode": {
    "name": "ipython",
    "version": 3
   },
   "file_extension": ".py",
   "mimetype": "text/x-python",
   "name": "python",
   "nbconvert_exporter": "python",
   "pygments_lexer": "ipython3",
   "version": "3.6.9"
  }
 },
 "nbformat": 4,
 "nbformat_minor": 2
}
