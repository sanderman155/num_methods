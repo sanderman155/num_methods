{
 "cells": [
  {
   "cell_type": "code",
   "execution_count": 3,
   "metadata": {},
   "outputs": [
    {
     "name": "stdout",
     "output_type": "stream",
     "text": [
      "10\n",
      "[[104.81187916   4.38021836   8.87800365   1.47466504   5.69201828\n",
      "    3.74257171   4.93227565   8.24213373   7.41327094   6.8842128 ]\n",
      " [  6.02245706 107.82942749   5.52356682   3.28620311   3.79547849\n",
      "    9.62619613   7.05055843   4.03919294   3.55809624   6.90309406]\n",
      " [  6.2898375    3.08033849 107.59704659   5.74127327   5.85679197\n",
      "    4.97945452   6.01801035   5.04081683   4.57858345   3.6687341 ]\n",
      " [  0.601701     5.34536394   7.64666641 105.33276282   2.7949279\n",
      "    3.41007865   3.59386721   6.92033976   2.38514578   1.31948997]\n",
      " [  3.33077586   1.14369606   7.84502048   3.12711642 103.46534131\n",
      "    0.82751742   2.57368227   9.62131513   4.22354347   7.24222592]\n",
      " [  2.14705624   7.12160311   1.28991395   8.09288509   3.75412397\n",
      "  109.64375977   8.42704212   9.32314997   4.85778629   3.39150262]\n",
      " [  2.95735985   3.8261458    2.80638306   2.47407758   5.46574031\n",
      "    0.58172765 107.2014995    2.46710047   7.1310524    7.23927727]\n",
      " [  0.15333742   7.73971956   2.43385496   7.30018294   8.02942938\n",
      "    5.38534251   4.49783342 106.26687197   9.88172637   7.67884508]\n",
      " [  6.51714504   0.28669499   9.47006598   7.76132916   3.35552093\n",
      "    0.88982828   6.0589244    2.61311641 102.11512307   5.64367605]\n",
      " [  5.46992309   3.05578729   4.59292269   4.57028017   2.430754\n",
      "    6.06308594   8.52242612   4.21320727   5.47699886 108.5380235 ]]\n",
      "[3.23302691 1.86938003 5.89958269 6.37238023 3.47593994 2.93089771\n",
      " 1.76722327 5.45026374 0.30321143 9.87371099]\n"
     ]
    },
    {
     "data": {
      "image/png": "[encoded data removed]",
      "text/plain": [
       "<Figure size 432x288 with 1 Axes>"
      ]
     },
     "metadata": {
      "needs_background": "light"
     },
     "output_type": "display_data"
    }
   ],
   "source": [
    "eps = 0.00001\n",
    "n = int(input())\n",
    "\n",
    "def dif(x, xnew):\n",
    "    s = 0\n",
    "    for i in range(n):\n",
    "        s += (xnew[i] - x[i]) ** 2\n",
    "    s = s ** 0.5\n",
    "    return s\n",
    "    \n",
    "def jacobi(A, f, x):\n",
    "    xnw = [0] * n\n",
    "    for i in range(n):\n",
    "        s = 0\n",
    "        for j in range(i):\n",
    "            s = s + A[i][j] * x[j]\n",
    "        for j in range(i + 1, n):\n",
    "            s = s + A[i][j] * x[j]            \n",
    "        xnw[i] = (f[i] - s) / A[i][i]\n",
    "    return xnw\n",
    "\n",
    "def solve(A, f):\n",
    "    xnew = np.random.uniform(0, n, n)\n",
    "    while True:\n",
    "        x = xnew\n",
    "        xnew = jacobi(A, f, x)\n",
    "        if dif(x, xnew) <= eps:\n",
    "            break\n",
    "    return xnew\n",
    "\n",
    "A = np.random.uniform(0, n, (n, n))\n",
    "for i in range(n):\n",
    "    A[i][i] = A[i][i] + n * n;\n",
    "f = np.random.uniform(0, n, n)\n",
    "print(A)\n",
    "print(f)\n",
    "plt.plot(np.linalg.solve(A, f) - solve(A, f))\n",
    "plt.show()\n"
   ]
  },
  {
   "cell_type": "code",
   "execution_count": 2,
   "metadata": {},
   "outputs": [],
   "source": [
    "import scipy.linalg\n",
    "import numpy as np\n",
    "import matplotlib.pyplot as plt\n"
   ]
  },
  {
   "cell_type": "code",
   "execution_count": null,
   "metadata": {},
   "outputs": [],
   "source": []
  },
  {
   "cell_type": "code",
   "execution_count": null,
   "metadata": {},
   "outputs": [],
   "source": []
  }
 ],
 "metadata": {
  "kernelspec": {
   "display_name": "Python 3",
   "language": "python",
   "name": "python3"
  },
  "language_info": {
   "codemirror_mode": {
    "name": "ipython",
    "version": 3
   },
   "file_extension": ".py",
   "mimetype": "text/x-python",
   "name": "python",
   "nbconvert_exporter": "python",
   "pygments_lexer": "ipython3",
   "version": "3.6.9"
  }
 },
 "nbformat": 4,
 "nbformat_minor": 2
}
